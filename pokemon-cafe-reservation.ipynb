{
 "cells": [
  {
   "attachments": {},
   "cell_type": "markdown",
   "metadata": {},
   "source": [
    "# Pokémon Cafe Reservation System 東京 日本橋店\n",
    "\n",
    "Read the full blog post [here](https://medium.com/@patrickgwl/how-to-get-a-pok%C3%A9mon-cafe-reservation-in-japan-daccd1835237).\n",
    "\n",
    "The Pokemon Cafe in Japan is a must-see for any big Pokemon fan. Pokemon Cafe Tokyo offers a menu featuring many popular Pokemon, and you can view the full menu [here](https://www.pokemoncenter-online.com/cafe/menu/). \n",
    "\n",
    "If you have ever attempted to make reservations for the Pokemon Cafe, you will know that this experience is very stressful! You can make a reservation up to a month in advance, but all the places are gone within seconds as soon as it hits 6 pm Japan time. \n",
    "\n",
    "![Failed booking](image/failed.png)\n",
    "\n",
    "After failing for two consecutive days, it was our last chance to get a place. I decided to take more drastic action and automate this process to improve my chances."
   ]
  },
  {
   "attachments": {},
   "cell_type": "markdown",
   "metadata": {},
   "source": [
    "## Step 1. Download the WebDriver\n",
    "\n",
    "This step downloads the zipped file of WebDriver in the current directory. I'm using google chrome driver for my Mac with an M1 chip, so update this link before running it. This [link](https://selenium-python.readthedocs.io/installation.html#drivers) has the full list of drivers."
   ]
  },
  {
   "cell_type": "code",
   "execution_count": null,
   "metadata": {},
   "outputs": [],
   "source": [
    "%%bash\n",
    "pip3 install selenium\n",
    "wget https://chromedriver.storage.googleapis.com/99.0.4844.17/chromedriver_mac64_m1.zip --quiet\n",
    "unzip chromedriver_mac64_m1.zip"
   ]
  },
  {
   "attachments": {},
   "cell_type": "markdown",
   "metadata": {},
   "source": [
    "## Step 2. Import the required libraries"
   ]
  },
  {
   "cell_type": "code",
   "execution_count": 1,
   "metadata": {},
   "outputs": [],
   "source": [
    "from selenium import webdriver\n",
    "from selenium.webdriver.common.by import By\n",
    "from selenium.webdriver.support.ui import Select\n",
    "from selenium.webdriver.chrome.options import Options\n",
    "from selenium.common.exceptions import NoSuchElementException"
   ]
  },
  {
   "attachments": {},
   "cell_type": "markdown",
   "metadata": {},
   "source": [
    "## Step 3. Define the functions for creating the reservation\n",
    "\n",
    "The key to this step is the XPath feature. XPath, which stands for XML Path Language, is a language to query XML/HTML documents. It allows me to navigate through the structure of the Pokemon webpage and find the element I need. You can find the XPath for the element you want to click on by right-clicking on the element and selecting \"Inspect\" in the Chrome browser.\n",
    "\n",
    "![Inspect](image/inspect.png)"
   ]
  },
  {
   "cell_type": "code",
   "execution_count": 10,
   "metadata": {},
   "outputs": [],
   "source": [
    "def create_booking(day_of_month, num_of_guests):\n",
    "    '''Create a reservation for Pokemon Cafe in Tokyo\n",
    "    Keyword arguments:\n",
    "    day_of_month -- day of the month to book\n",
    "    num_of_guests -- number of guests to book (1-8)\n",
    "    '''\n",
    "\n",
    "    website = \"https://reserve.pokemon-cafe.jp/\"\n",
    "    chrome_options = Options()\n",
    "    chrome_options.add_experimental_option(\"detach\", True)\n",
    "    chromedriver = \"chromedriver\"\n",
    "    driver = webdriver.Chrome(chromedriver, options=chrome_options)\n",
    "    driver.get(website)\n",
    "\n",
    "    try:\n",
    "        # 席の予約 HTML 1 - Make a reservation\n",
    "        driver.find_element(By.XPATH, \"//*[@class='button arrow-down']\").click()\n",
    "\n",
    "        # 席の予約 HTML 2 - Agree T&C\n",
    "        driver.find_element(By.XPATH, \"//*[@class='agreeChecked']\").click()\n",
    "        driver.find_element(By.XPATH, \"//*[@class='button']\").click()\n",
    "\n",
    "        # 席の予約 HTML 3 - Select number of guest\n",
    "        select = Select(driver.find_element(By.NAME, 'guest'))\n",
    "        select.select_by_index(num_of_guests)\n",
    "\n",
    "        # 席の予約 HTML 4 - Select from calendar\n",
    "        driver.find_element(By.XPATH, \"//*[contains(text(), '次の月を見る')]\").click()\n",
    "        driver.find_element(By.XPATH, \"//*[contains(text(), \" + str(day_of_month) + \")]\").click()\n",
    "        driver.find_element(By.XPATH, \"//*[@class='button']\").click()\n",
    "    except NoSuchElementException:\n",
    "        pass"
   ]
  },
  {
   "attachments": {},
   "cell_type": "markdown",
   "metadata": {},
   "source": [
    "## Step 4. Create the reservation \n",
    "\n",
    "Each iteration will create a reservation for the next month using the day_of_month as an input. The variable num_of_guest sets the number of people. Adjust these parameters to your needs. The variable num_of_iterations sets the number of iterations. The default is 2, so it will open two browser sessions, one after the other. If you want to create five consecutive attempts, set the num_of_iterations to 5. "
   ]
  },
  {
   "cell_type": "code",
   "execution_count": 11,
   "metadata": {},
   "outputs": [
    {
     "data": {
      "text/plain": [
       "[None]"
      ]
     },
     "execution_count": 11,
     "metadata": {},
     "output_type": "execute_result"
    }
   ],
   "source": [
    "num_iterations = 1\n",
    "day_of_month='18'\n",
    "num_of_guests=5\n",
    "[create_booking(day_of_month, num_of_guests) for x in range(num_iterations)]"
   ]
  },
  {
   "attachments": {},
   "cell_type": "markdown",
   "metadata": {},
   "source": [
    "## Step 5. Manually complete the reservation\n",
    "\n",
    "I have set the browser to remain open to complete the steps manually. I've yet to completely automate the steps afterwards, as it was so hard to get pass this stage. In one of your browser sessions, you will see the following page.\n",
    "\n",
    "![Successful booking](image/landed.png)\n",
    "\n",
    "If you are lucky enough, there will be an available time slot for you to choose from.\n",
    "\n",
    "![Successful booking](image/free.png)\n",
    "\n",
    "If you pass this step, no credit card is needed to book the reservation. You must enter your name, phone number, country code, and email address. Note that the system will cancel the session unless you complete the remaining steps within 15 minutes after the reservation time. \n",
    "\n"
   ]
  },
  {
   "attachments": {},
   "cell_type": "markdown",
   "metadata": {},
   "source": [
    "## Conclusion\n",
    "\n",
    "I have successfully created a reservation for the Pokemon Cafe Tokyo. You could parallelise the process to increase your chance, but you risk being detected as a bot and blocked by the firewall.\n",
    "\n",
    "![Successful booking](image/success.png)"
   ]
  }
 ],
 "metadata": {
  "kernelspec": {
   "display_name": "Python 3",
   "language": "python",
   "name": "python3"
  },
  "language_info": {
   "codemirror_mode": {
    "name": "ipython",
    "version": 3
   },
   "file_extension": ".py",
   "mimetype": "text/x-python",
   "name": "python",
   "nbconvert_exporter": "python",
   "pygments_lexer": "ipython3",
   "version": "3.10.8"
  },
  "orig_nbformat": 4
 },
 "nbformat": 4,
 "nbformat_minor": 2
}
