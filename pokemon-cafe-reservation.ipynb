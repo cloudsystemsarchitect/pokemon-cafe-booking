{
 "cells": [
  {
   "attachments": {},
   "cell_type": "markdown",
   "metadata": {},
   "source": [
    "# Pokémon Cafe Reservation System 東京 日本橋店\n",
    "\n",
    "The Pokemon Cafe in Japan is a must-see for any big Pokemon fan. Pokemon Cafe Tokyo offers a menu featuring many popular Pokemon and you can view the full menu [here](https://www.pokemoncenter-online.com/cafe/menu/). \n",
    "\n",
    "If you have ever attempt to make reservations for the Pokemon Cafe, you will know that this is a very stressful experience! A reservation must be made in advance and this can be made up to a month in advance, but as soon as it hit 6pm Japan time, which is 9am UK time for us, everything will be fully book within seconds. \n",
    "\n",
    "![Failed booking](failed.png)\n",
    "\n",
    "\n",
    "After failing for 2 consecutively days, and it was our last chance to get a place. I decided to take more drastic action and automate this process to improve my chances."
   ]
  },
  {
   "attachments": {},
   "cell_type": "markdown",
   "metadata": {},
   "source": [
    "## Step 1. Download the WebDriver\n",
    "This step download the zipped file of WebDriver in the current directoy. I'm using google chrome driver for my Mac with m1 chip, so update this link before running it. The full list of drivers can be found in this [link](https://selenium-python.readthedocs.io/installation.html#drivers)."
   ]
  },
  {
   "cell_type": "code",
   "execution_count": null,
   "metadata": {},
   "outputs": [],
   "source": [
    "%%bash\n",
    "pip3 install selenium\n",
    "wget https://chromedriver.storage.googleapis.com/99.0.4844.17/chromedriver_mac64_m1.zip --quiet\n",
    "unzip chromedriver_mac64_m1.zip"
   ]
  },
  {
   "attachments": {},
   "cell_type": "markdown",
   "metadata": {},
   "source": [
    "## Step 2. Import the required libraries"
   ]
  },
  {
   "cell_type": "code",
   "execution_count": 1,
   "metadata": {},
   "outputs": [],
   "source": [
    "from selenium import webdriver\n",
    "from selenium.webdriver.common.by import By\n",
    "from selenium.webdriver.support.ui import Select\n",
    "from selenium.webdriver.chrome.options import Options\n",
    "from selenium.common.exceptions import NoSuchElementException"
   ]
  },
  {
   "attachments": {},
   "cell_type": "markdown",
   "metadata": {},
   "source": [
    "## Step 3. Define the functions for creating the reservation\n",
    "\n",
    "The key to this step is the XPath feature. XPath is a language to query XML/HTML documents it allows me to navigate through the structure of the Pokemon webpage. This took me a bit of time to figure out, but eventually I got there. "
   ]
  },
  {
   "cell_type": "code",
   "execution_count": 10,
   "metadata": {},
   "outputs": [],
   "source": [
    "def create_booking(day_of_month, num_of_guests):\n",
    "    '''Create a reservation for Pokemon Cafe in Tokyo\n",
    "    Keyword arguments:\n",
    "    day_of_month -- day of the month to book\n",
    "    num_of_guests -- number of guests to book (1-8)\n",
    "    '''\n",
    "\n",
    "    website = \"https://reserve.pokemon-cafe.jp/\"\n",
    "    chrome_options = Options()\n",
    "    chrome_options.add_experimental_option(\"detach\", True)\n",
    "    chromedriver = \"chromedriver\"\n",
    "    driver = webdriver.Chrome(chromedriver, options=chrome_options)\n",
    "    driver.get(website)\n",
    "\n",
    "    try:\n",
    "        # 席の予約 HTML 1 - Make a reservation\n",
    "        driver.find_element(By.XPATH, \"//*[@class='button arrow-down']\").click()\n",
    "\n",
    "        # 席の予約 HTML 2 - Agree T&C\n",
    "        driver.find_element(By.XPATH, \"//*[@class='agreeChecked']\").click()\n",
    "        driver.find_element(By.XPATH, \"//*[@class='button']\").click()\n",
    "\n",
    "        # 席の予約 HTML 3 - Select number of guest\n",
    "        select = Select(driver.find_element(By.NAME, 'guest'))\n",
    "        select.select_by_index(num_of_guests)\n",
    "\n",
    "        # 席の予約 HTML 4 - Select from calendar\n",
    "        driver.find_element(By.XPATH, \"//*[contains(text(), '次の月を見る')]\").click()\n",
    "        driver.find_element(By.XPATH, \"//*[contains(text(), \" + str(day_of_month) + \")]\").click()\n",
    "        driver.find_element(By.XPATH, \"//*[@class='button']\").click()\n",
    "    except NoSuchElementException:\n",
    "        pass"
   ]
  },
  {
   "attachments": {},
   "cell_type": "markdown",
   "metadata": {},
   "source": [
    "## Step 4. Create the reservation \n",
    "For each iterations, it will create a reservation for the next month using the day_of_month as an input. The number of people is set by the variable num_of_guest. Adjust these parameters to your needs. The number of iterations is set by the variable num_of_iterations. The default is 2, so it will open two browser session one after the other. If you want to create 5 consecutive attemps for, set the num_of_iterations to 5. "
   ]
  },
  {
   "cell_type": "code",
   "execution_count": 11,
   "metadata": {},
   "outputs": [
    {
     "data": {
      "text/plain": [
       "[None]"
      ]
     },
     "execution_count": 11,
     "metadata": {},
     "output_type": "execute_result"
    }
   ],
   "source": [
    "num_iterations = 1\n",
    "day_of_month='18'\n",
    "num_of_guests=5\n",
    "[create_booking(day_of_month, num_of_guests) for x in range(num_iterations)]"
   ]
  },
  {
   "attachments": {},
   "cell_type": "markdown",
   "metadata": {},
   "source": [
    "## Step 5. Manually complete the reservation\n",
    "I have set the browser to remain open for me to complete the steps manually. I've not completely automated the steps afterwards as it was so hard to get pass. One of your browser session, you will see the following page.\n",
    "\n",
    "![Successful booking](landed.png)\n",
    "\n",
    "If you are lucky enough, there will be an avaliable time slot for you to choose.\n",
    "\n",
    "![Successful booking](free.png)\n",
    "\n",
    "If you got passed this step, there is no credit card needed to book the reservation. You just need to enter your name, phone number with country code and email address. Note that if you do not complete the remaining steps within 15 minutes after the reservation time, it will be automatically canceled."
   ]
  },
  {
   "attachments": {},
   "cell_type": "markdown",
   "metadata": {},
   "source": [
    "## Conclusion\n",
    "I have successfully created a reservation for the Pokemon Cafe Tokyo. You could parallelise the process to increase you chance, but you run the risk of being detected as a bot and blocked by the firewall completely.\n",
    "\n",
    "![Successful booking](success.png)"
   ]
  }
 ],
 "metadata": {
  "kernelspec": {
   "display_name": "Python 3",
   "language": "python",
   "name": "python3"
  },
  "language_info": {
   "codemirror_mode": {
    "name": "ipython",
    "version": 3
   },
   "file_extension": ".py",
   "mimetype": "text/x-python",
   "name": "python",
   "nbconvert_exporter": "python",
   "pygments_lexer": "ipython3",
   "version": "3.10.8"
  },
  "orig_nbformat": 4
 },
 "nbformat": 4,
 "nbformat_minor": 2
}
